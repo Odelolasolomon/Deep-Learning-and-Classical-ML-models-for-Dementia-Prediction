{
 "cells": [
  {
   "cell_type": "markdown",
   "metadata": {},
   "source": [
    "## Data Collection and Understanding \n",
    "- Gather historical time series data relevant to the problem.\n",
    "- Ensure the data is of high quality and covers the necessary time period."
   ]
  },
  {
   "cell_type": "code",
   "execution_count": 1,
   "metadata": {},
   "outputs": [],
   "source": []
  },
  {
   "cell_type": "markdown",
   "metadata": {},
   "source": [
    "## Data Examination for components like trends, seasonality, etc.\n",
    "- Examine the structure and components of the data (e.g., trend, seasonality, cycles).\n",
    "- Identify any anomalies or missing values.\n",
    "- Understand the domain to make informed decisions. etc."
   ]
  },
  {
   "cell_type": "code",
   "execution_count": null,
   "metadata": {},
   "outputs": [],
   "source": []
  },
  {
   "cell_type": "markdown",
   "metadata": {},
   "source": [
    "## Data Preprocessing \n",
    "- missing values\n",
    "- duplicates \n",
    "- outliers detection\n",
    "- noises etc."
   ]
  },
  {
   "cell_type": "code",
   "execution_count": null,
   "metadata": {},
   "outputs": [],
   "source": []
  },
  {
   "cell_type": "markdown",
   "metadata": {},
   "source": [
    "## Feature Engineering \n",
    "- Create additional features such as lagged values, rolling means, or seasonal indicators.\n",
    "- Extract date-time features (e.g., day of the week, month)."
   ]
  },
  {
   "cell_type": "code",
   "execution_count": null,
   "metadata": {},
   "outputs": [],
   "source": []
  },
  {
   "cell_type": "markdown",
   "metadata": {},
   "source": [
    "## Exploratory Data Analysis (EDA)\n",
    "- Visualize Data:\n",
    "- Plot the time series to identify patterns.\n",
    "- Use plots like line plots, autocorrelation plots, and seasonal decomposition\n",
    "- Calculate summary statistics.\n",
    "- Perform stationarity tests (e.g., Augmented Dickey-Fuller test)."
   ]
  },
  {
   "cell_type": "code",
   "execution_count": null,
   "metadata": {},
   "outputs": [],
   "source": []
  },
  {
   "cell_type": "markdown",
   "metadata": {},
   "source": [
    "## Feature selection \n",
    "- try different feature selection technique "
   ]
  },
  {
   "cell_type": "markdown",
   "metadata": {},
   "source": []
  },
  {
   "cell_type": "markdown",
   "metadata": {},
   "source": [
    "# Modeling "
   ]
  },
  {
   "cell_type": "markdown",
   "metadata": {},
   "source": []
  },
  {
   "cell_type": "markdown",
   "metadata": {},
   "source": [
    "## Splitting the data \n",
    "- Split the data into training and testing sets while preserving the time order.\n",
    "- Consider using a validation set or cross-validation (e.g., TimeSeriesSplit)."
   ]
  },
  {
   "cell_type": "markdown",
   "metadata": {},
   "source": []
  },
  {
   "cell_type": "markdown",
   "metadata": {},
   "source": [
    "## Scaling/Normalization "
   ]
  },
  {
   "cell_type": "markdown",
   "metadata": {},
   "source": []
  },
  {
   "cell_type": "markdown",
   "metadata": {},
   "source": [
    "## Pipeline with baseline models for training and evaluatio with mean absolute error, rmse, mape, minimum absolute error and maximum absolute error \n",
    "- elastic net \n",
    "- xgboost \n",
    "- lightgbm\n",
    "- random forest \n",
    "- mlp \n",
    "- gradient boost\n",
    "- facebook prophet \n",
    "\n",
    "**Note** : we can submit the best prediction gotten from the best model"
   ]
  },
  {
   "cell_type": "markdown",
   "metadata": {},
   "source": []
  },
  {
   "cell_type": "markdown",
   "metadata": {},
   "source": []
  },
  {
   "cell_type": "code",
   "execution_count": null,
   "metadata": {},
   "outputs": [],
   "source": []
  },
  {
   "cell_type": "markdown",
   "metadata": {},
   "source": [
    "## Retrain the best two models and evaluate them \n",
    "- feature importance \n",
    "- sharp values \n",
    "- hyper parameter tuning \n",
    "- Plot predited against actual \n",
    "\n",
    "**Note** : We can submit \n"
   ]
  },
  {
   "cell_type": "markdown",
   "metadata": {},
   "source": []
  },
  {
   "cell_type": "markdown",
   "metadata": {},
   "source": [
    "## Ensemble all the algorithms using stacking , train , evaluate "
   ]
  },
  {
   "cell_type": "markdown",
   "metadata": {},
   "source": [
    "**We can start again using another feature selection technique until we exhaust the feature selection techniques**"
   ]
  },
  {
   "cell_type": "markdown",
   "metadata": {},
   "source": [
    "# Using Deep Learning Approach \n",
    "- LSTM  "
   ]
  },
  {
   "cell_type": "markdown",
   "metadata": {},
   "source": []
  }
 ],
 "metadata": {
  "kernelspec": {
   "display_name": "Python 3",
   "language": "python",
   "name": "python3"
  },
  "language_info": {
   "codemirror_mode": {
    "name": "ipython",
    "version": 3
   },
   "file_extension": ".py",
   "mimetype": "text/x-python",
   "name": "python",
   "nbconvert_exporter": "python",
   "pygments_lexer": "ipython3",
   "version": "3.12.4"
  }
 },
 "nbformat": 4,
 "nbformat_minor": 2
}
