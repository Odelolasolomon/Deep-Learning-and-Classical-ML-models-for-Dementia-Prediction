{
 "cells": [
  {
   "cell_type": "markdown",
   "metadata": {},
   "source": [
    "Loading the libraries"
   ]
  },
  {
   "cell_type": "code",
   "execution_count": 2,
   "metadata": {},
   "outputs": [
    {
     "name": "stdout",
     "output_type": "stream",
     "text": [
      "successful\n"
     ]
    }
   ],
   "source": [
    "import pandas as pd\n",
    "import numpy as np\n",
    "import seaborn as sns\n",
    "import matplotlib.pyplot as plt\n",
    "\n",
    "import warnings\n",
    "warnings.filterwarnings('ignore')\n",
    "print(\"successful\")"
   ]
  },
  {
   "cell_type": "code",
   "execution_count": 3,
   "metadata": {},
   "outputs": [
    {
     "data": {
      "text/html": [
       "<div>\n",
       "<style scoped>\n",
       "    .dataframe tbody tr th:only-of-type {\n",
       "        vertical-align: middle;\n",
       "    }\n",
       "\n",
       "    .dataframe tbody tr th {\n",
       "        vertical-align: top;\n",
       "    }\n",
       "\n",
       "    .dataframe thead th {\n",
       "        text-align: right;\n",
       "    }\n",
       "</style>\n",
       "<table border=\"1\" class=\"dataframe\">\n",
       "  <thead>\n",
       "    <tr style=\"text-align: right;\">\n",
       "      <th></th>\n",
       "      <th>ID</th>\n",
       "      <th>age</th>\n",
       "      <th>gender</th>\n",
       "      <th>dementia</th>\n",
       "      <th>dementia_all</th>\n",
       "      <th>educationyears</th>\n",
       "      <th>EF</th>\n",
       "      <th>PS</th>\n",
       "      <th>Global</th>\n",
       "      <th>diabetes</th>\n",
       "      <th>...</th>\n",
       "      <th>hypercholesterolemia</th>\n",
       "      <th>lacunes_num</th>\n",
       "      <th>fazekas_cat</th>\n",
       "      <th>study</th>\n",
       "      <th>study1</th>\n",
       "      <th>SVD Simple Score</th>\n",
       "      <th>SVD Amended Score</th>\n",
       "      <th>Fazekas</th>\n",
       "      <th>lac_count</th>\n",
       "      <th>CMB_count</th>\n",
       "    </tr>\n",
       "  </thead>\n",
       "  <tbody>\n",
       "    <tr>\n",
       "      <th>0</th>\n",
       "      <td>1</td>\n",
       "      <td>52.67</td>\n",
       "      <td>male</td>\n",
       "      <td>0.0</td>\n",
       "      <td>0</td>\n",
       "      <td>11.0</td>\n",
       "      <td>-2.403333</td>\n",
       "      <td>-1.290000</td>\n",
       "      <td>-1.287000</td>\n",
       "      <td>0</td>\n",
       "      <td>...</td>\n",
       "      <td>Yes</td>\n",
       "      <td>more-than-zero</td>\n",
       "      <td>2 to 3</td>\n",
       "      <td>scans</td>\n",
       "      <td>scans</td>\n",
       "      <td>3.0</td>\n",
       "      <td>7.0</td>\n",
       "      <td>3</td>\n",
       "      <td>&gt;5</td>\n",
       "      <td>&gt;=1</td>\n",
       "    </tr>\n",
       "    <tr>\n",
       "      <th>1</th>\n",
       "      <td>10</td>\n",
       "      <td>64.58</td>\n",
       "      <td>male</td>\n",
       "      <td>0.0</td>\n",
       "      <td>0</td>\n",
       "      <td>10.0</td>\n",
       "      <td>1.280000</td>\n",
       "      <td>0.360000</td>\n",
       "      <td>0.744000</td>\n",
       "      <td>0</td>\n",
       "      <td>...</td>\n",
       "      <td>Yes</td>\n",
       "      <td>more-than-zero</td>\n",
       "      <td>0 to 1</td>\n",
       "      <td>scans</td>\n",
       "      <td>scans</td>\n",
       "      <td>2.0</td>\n",
       "      <td>3.0</td>\n",
       "      <td>1</td>\n",
       "      <td>1 to 2</td>\n",
       "      <td>&gt;=1</td>\n",
       "    </tr>\n",
       "    <tr>\n",
       "      <th>2</th>\n",
       "      <td>100</td>\n",
       "      <td>74.92</td>\n",
       "      <td>male</td>\n",
       "      <td>0.0</td>\n",
       "      <td>0</td>\n",
       "      <td>8.0</td>\n",
       "      <td>-1.440000</td>\n",
       "      <td>-1.520000</td>\n",
       "      <td>-0.922000</td>\n",
       "      <td>0</td>\n",
       "      <td>...</td>\n",
       "      <td>Yes</td>\n",
       "      <td>more-than-zero</td>\n",
       "      <td>0 to 1</td>\n",
       "      <td>scans</td>\n",
       "      <td>scans</td>\n",
       "      <td>1.0</td>\n",
       "      <td>2.0</td>\n",
       "      <td>1</td>\n",
       "      <td>1 to 2</td>\n",
       "      <td>0</td>\n",
       "    </tr>\n",
       "    <tr>\n",
       "      <th>3</th>\n",
       "      <td>101</td>\n",
       "      <td>74.83</td>\n",
       "      <td>male</td>\n",
       "      <td>1.0</td>\n",
       "      <td>1</td>\n",
       "      <td>9.0</td>\n",
       "      <td>NaN</td>\n",
       "      <td>-2.136271</td>\n",
       "      <td>-1.301102</td>\n",
       "      <td>0</td>\n",
       "      <td>...</td>\n",
       "      <td>Yes</td>\n",
       "      <td>more-than-zero</td>\n",
       "      <td>2 to 3</td>\n",
       "      <td>scans</td>\n",
       "      <td>scans</td>\n",
       "      <td>2.0</td>\n",
       "      <td>4.0</td>\n",
       "      <td>2</td>\n",
       "      <td>3 to 5</td>\n",
       "      <td>0</td>\n",
       "    </tr>\n",
       "    <tr>\n",
       "      <th>4</th>\n",
       "      <td>102</td>\n",
       "      <td>79.25</td>\n",
       "      <td>male</td>\n",
       "      <td>0.0</td>\n",
       "      <td>0</td>\n",
       "      <td>10.0</td>\n",
       "      <td>-0.920000</td>\n",
       "      <td>-1.493333</td>\n",
       "      <td>-0.924000</td>\n",
       "      <td>0</td>\n",
       "      <td>...</td>\n",
       "      <td>Yes</td>\n",
       "      <td>more-than-zero</td>\n",
       "      <td>2 to 3</td>\n",
       "      <td>scans</td>\n",
       "      <td>scans</td>\n",
       "      <td>2.0</td>\n",
       "      <td>3.0</td>\n",
       "      <td>2</td>\n",
       "      <td>1 to 2</td>\n",
       "      <td>0</td>\n",
       "    </tr>\n",
       "    <tr>\n",
       "      <th>...</th>\n",
       "      <td>...</td>\n",
       "      <td>...</td>\n",
       "      <td>...</td>\n",
       "      <td>...</td>\n",
       "      <td>...</td>\n",
       "      <td>...</td>\n",
       "      <td>...</td>\n",
       "      <td>...</td>\n",
       "      <td>...</td>\n",
       "      <td>...</td>\n",
       "      <td>...</td>\n",
       "      <td>...</td>\n",
       "      <td>...</td>\n",
       "      <td>...</td>\n",
       "      <td>...</td>\n",
       "      <td>...</td>\n",
       "      <td>...</td>\n",
       "      <td>...</td>\n",
       "      <td>...</td>\n",
       "      <td>...</td>\n",
       "      <td>...</td>\n",
       "    </tr>\n",
       "    <tr>\n",
       "      <th>1837</th>\n",
       "      <td>989</td>\n",
       "      <td>67.00</td>\n",
       "      <td>female</td>\n",
       "      <td>0.0</td>\n",
       "      <td>0</td>\n",
       "      <td>13.0</td>\n",
       "      <td>-0.100000</td>\n",
       "      <td>-0.020000</td>\n",
       "      <td>-0.260000</td>\n",
       "      <td>0</td>\n",
       "      <td>...</td>\n",
       "      <td>Yes</td>\n",
       "      <td>zero</td>\n",
       "      <td>0 to 1</td>\n",
       "      <td>ASPS-elderly</td>\n",
       "      <td>ASPS</td>\n",
       "      <td>NaN</td>\n",
       "      <td>NaN</td>\n",
       "      <td>0</td>\n",
       "      <td>Zero</td>\n",
       "      <td>0</td>\n",
       "    </tr>\n",
       "    <tr>\n",
       "      <th>1838</th>\n",
       "      <td>990</td>\n",
       "      <td>71.00</td>\n",
       "      <td>female</td>\n",
       "      <td>0.0</td>\n",
       "      <td>0</td>\n",
       "      <td>13.0</td>\n",
       "      <td>-0.370000</td>\n",
       "      <td>-1.060000</td>\n",
       "      <td>-1.003333</td>\n",
       "      <td>0</td>\n",
       "      <td>...</td>\n",
       "      <td>Yes</td>\n",
       "      <td>zero</td>\n",
       "      <td>0 to 1</td>\n",
       "      <td>ASPS-elderly</td>\n",
       "      <td>ASPS</td>\n",
       "      <td>NaN</td>\n",
       "      <td>NaN</td>\n",
       "      <td>1</td>\n",
       "      <td>Zero</td>\n",
       "      <td>0</td>\n",
       "    </tr>\n",
       "    <tr>\n",
       "      <th>1839</th>\n",
       "      <td>991</td>\n",
       "      <td>55.00</td>\n",
       "      <td>male</td>\n",
       "      <td>0.0</td>\n",
       "      <td>0</td>\n",
       "      <td>10.0</td>\n",
       "      <td>0.460000</td>\n",
       "      <td>0.960000</td>\n",
       "      <td>0.610000</td>\n",
       "      <td>0</td>\n",
       "      <td>...</td>\n",
       "      <td>Yes</td>\n",
       "      <td>zero</td>\n",
       "      <td>0 to 1</td>\n",
       "      <td>ASPS-elderly</td>\n",
       "      <td>ASPS</td>\n",
       "      <td>0.0</td>\n",
       "      <td>0.0</td>\n",
       "      <td>0</td>\n",
       "      <td>Zero</td>\n",
       "      <td>0</td>\n",
       "    </tr>\n",
       "    <tr>\n",
       "      <th>1840</th>\n",
       "      <td>995</td>\n",
       "      <td>54.00</td>\n",
       "      <td>male</td>\n",
       "      <td>0.0</td>\n",
       "      <td>0</td>\n",
       "      <td>10.0</td>\n",
       "      <td>0.190000</td>\n",
       "      <td>0.030000</td>\n",
       "      <td>0.590000</td>\n",
       "      <td>0</td>\n",
       "      <td>...</td>\n",
       "      <td>Yes</td>\n",
       "      <td>zero</td>\n",
       "      <td>0 to 1</td>\n",
       "      <td>ASPS-elderly</td>\n",
       "      <td>ASPS</td>\n",
       "      <td>0.0</td>\n",
       "      <td>0.0</td>\n",
       "      <td>1</td>\n",
       "      <td>Zero</td>\n",
       "      <td>0</td>\n",
       "    </tr>\n",
       "    <tr>\n",
       "      <th>1841</th>\n",
       "      <td>996</td>\n",
       "      <td>68.00</td>\n",
       "      <td>female</td>\n",
       "      <td>0.0</td>\n",
       "      <td>0</td>\n",
       "      <td>10.0</td>\n",
       "      <td>0.510000</td>\n",
       "      <td>-0.530000</td>\n",
       "      <td>-0.100000</td>\n",
       "      <td>0</td>\n",
       "      <td>...</td>\n",
       "      <td>Yes</td>\n",
       "      <td>more-than-zero</td>\n",
       "      <td>2 to 3</td>\n",
       "      <td>ASPS-elderly</td>\n",
       "      <td>ASPS</td>\n",
       "      <td>NaN</td>\n",
       "      <td>NaN</td>\n",
       "      <td>2</td>\n",
       "      <td>1 to 2</td>\n",
       "      <td>0</td>\n",
       "    </tr>\n",
       "  </tbody>\n",
       "</table>\n",
       "<p>1842 rows × 22 columns</p>\n",
       "</div>"
      ],
      "text/plain": [
       "       ID    age  gender  dementia  dementia_all  educationyears        EF  \\\n",
       "0       1  52.67    male       0.0             0            11.0 -2.403333   \n",
       "1      10  64.58    male       0.0             0            10.0  1.280000   \n",
       "2     100  74.92    male       0.0             0             8.0 -1.440000   \n",
       "3     101  74.83    male       1.0             1             9.0       NaN   \n",
       "4     102  79.25    male       0.0             0            10.0 -0.920000   \n",
       "...   ...    ...     ...       ...           ...             ...       ...   \n",
       "1837  989  67.00  female       0.0             0            13.0 -0.100000   \n",
       "1838  990  71.00  female       0.0             0            13.0 -0.370000   \n",
       "1839  991  55.00    male       0.0             0            10.0  0.460000   \n",
       "1840  995  54.00    male       0.0             0            10.0  0.190000   \n",
       "1841  996  68.00  female       0.0             0            10.0  0.510000   \n",
       "\n",
       "            PS    Global  diabetes  ... hypercholesterolemia     lacunes_num  \\\n",
       "0    -1.290000 -1.287000         0  ...                  Yes  more-than-zero   \n",
       "1     0.360000  0.744000         0  ...                  Yes  more-than-zero   \n",
       "2    -1.520000 -0.922000         0  ...                  Yes  more-than-zero   \n",
       "3    -2.136271 -1.301102         0  ...                  Yes  more-than-zero   \n",
       "4    -1.493333 -0.924000         0  ...                  Yes  more-than-zero   \n",
       "...        ...       ...       ...  ...                  ...             ...   \n",
       "1837 -0.020000 -0.260000         0  ...                  Yes            zero   \n",
       "1838 -1.060000 -1.003333         0  ...                  Yes            zero   \n",
       "1839  0.960000  0.610000         0  ...                  Yes            zero   \n",
       "1840  0.030000  0.590000         0  ...                  Yes            zero   \n",
       "1841 -0.530000 -0.100000         0  ...                  Yes  more-than-zero   \n",
       "\n",
       "     fazekas_cat         study study1 SVD Simple Score SVD Amended Score  \\\n",
       "0         2 to 3         scans  scans              3.0               7.0   \n",
       "1         0 to 1         scans  scans              2.0               3.0   \n",
       "2         0 to 1         scans  scans              1.0               2.0   \n",
       "3         2 to 3         scans  scans              2.0               4.0   \n",
       "4         2 to 3         scans  scans              2.0               3.0   \n",
       "...          ...           ...    ...              ...               ...   \n",
       "1837      0 to 1  ASPS-elderly   ASPS              NaN               NaN   \n",
       "1838      0 to 1  ASPS-elderly   ASPS              NaN               NaN   \n",
       "1839      0 to 1  ASPS-elderly   ASPS              0.0               0.0   \n",
       "1840      0 to 1  ASPS-elderly   ASPS              0.0               0.0   \n",
       "1841      2 to 3  ASPS-elderly   ASPS              NaN               NaN   \n",
       "\n",
       "      Fazekas  lac_count  CMB_count  \n",
       "0           3         >5        >=1  \n",
       "1           1     1 to 2        >=1  \n",
       "2           1     1 to 2          0  \n",
       "3           2     3 to 5          0  \n",
       "4           2     1 to 2          0  \n",
       "...       ...        ...        ...  \n",
       "1837        0       Zero          0  \n",
       "1838        1       Zero          0  \n",
       "1839        0       Zero          0  \n",
       "1840        1       Zero          0  \n",
       "1841        2     1 to 2          0  \n",
       "\n",
       "[1842 rows x 22 columns]"
      ]
     },
     "execution_count": 3,
     "metadata": {},
     "output_type": "execute_result"
    }
   ],
   "source": [
    "dem_df = pd.read_csv(r\"C:\\Users\\Open User\\Downloads\\OPTIMAL_combined_3studies_6feb2020.csv\")\n",
    "demen_df = dem_df.copy()\n",
    "demen_df"
   ]
  },
  {
   "cell_type": "code",
   "execution_count": 4,
   "metadata": {},
   "outputs": [
    {
     "data": {
      "text/plain": [
       "Index(['ID', 'age', 'gender', 'dementia', 'dementia_all', 'educationyears',\n",
       "       'EF', 'PS', 'Global', 'diabetes', 'smoking', 'hypertension',\n",
       "       'hypercholesterolemia', 'lacunes_num', 'fazekas_cat', 'study', 'study1',\n",
       "       'SVD Simple Score', 'SVD Amended Score', 'Fazekas', 'lac_count',\n",
       "       'CMB_count'],\n",
       "      dtype='object')"
      ]
     },
     "execution_count": 4,
     "metadata": {},
     "output_type": "execute_result"
    }
   ],
   "source": [
    "demen_df.columns"
   ]
  },
  {
   "cell_type": "code",
   "execution_count": 5,
   "metadata": {},
   "outputs": [
    {
     "data": {
      "text/plain": [
       "ID                      1467\n",
       "age                      630\n",
       "gender                     2\n",
       "dementia                   2\n",
       "dementia_all               2\n",
       "educationyears            26\n",
       "EF                       686\n",
       "PS                       738\n",
       "Global                  1014\n",
       "diabetes                   2\n",
       "smoking                    3\n",
       "hypertension               2\n",
       "hypercholesterolemia       2\n",
       "lacunes_num                2\n",
       "fazekas_cat                2\n",
       "study                      4\n",
       "study1                     3\n",
       "SVD Simple Score           4\n",
       "SVD Amended Score          8\n",
       "Fazekas                    4\n",
       "lac_count                  4\n",
       "CMB_count                  2\n",
       "dtype: int64"
      ]
     },
     "execution_count": 5,
     "metadata": {},
     "output_type": "execute_result"
    }
   ],
   "source": [
    "demen_df.nunique()"
   ]
  },
  {
   "cell_type": "code",
   "execution_count": null,
   "metadata": {},
   "outputs": [],
   "source": []
  },
  {
   "cell_type": "markdown",
   "metadata": {},
   "source": [
    "## Data Examination for components like trends, seasonality, etc.\n",
    "- Examine the structure and components of the data (e.g., trend, seasonality, cycles).\n",
    "- Identify any anomalies or missing values.\n",
    "- Understand the domain to make informed decisions. etc."
   ]
  },
  {
   "cell_type": "code",
   "execution_count": null,
   "metadata": {},
   "outputs": [],
   "source": []
  },
  {
   "cell_type": "markdown",
   "metadata": {},
   "source": [
    "## Data Preprocessing \n",
    "- missing values\n",
    "- duplicates \n",
    "- outliers detection\n",
    "- noises etc."
   ]
  },
  {
   "cell_type": "code",
   "execution_count": null,
   "metadata": {},
   "outputs": [],
   "source": []
  },
  {
   "cell_type": "markdown",
   "metadata": {},
   "source": [
    "## Feature Engineering \n",
    "- Create additional features such as lagged values, rolling means, or seasonal indicators.\n",
    "- Extract date-time features (e.g., day of the week, month)."
   ]
  },
  {
   "cell_type": "code",
   "execution_count": null,
   "metadata": {},
   "outputs": [],
   "source": []
  },
  {
   "cell_type": "markdown",
   "metadata": {},
   "source": [
    "## Exploratory Data Analysis (EDA)\n",
    "- Visualize Data:\n",
    "- Plot the time series to identify patterns.\n",
    "- Use plots like line plots, autocorrelation plots, and seasonal decomposition\n",
    "- Calculate summary statistics.\n",
    "- Perform stationarity tests (e.g., Augmented Dickey-Fuller test)."
   ]
  },
  {
   "cell_type": "code",
   "execution_count": null,
   "metadata": {},
   "outputs": [],
   "source": []
  },
  {
   "cell_type": "markdown",
   "metadata": {},
   "source": [
    "## Feature selection \n",
    "- try different feature selection technique "
   ]
  },
  {
   "cell_type": "markdown",
   "metadata": {},
   "source": []
  },
  {
   "cell_type": "markdown",
   "metadata": {},
   "source": [
    "# Modeling "
   ]
  },
  {
   "cell_type": "markdown",
   "metadata": {},
   "source": []
  },
  {
   "cell_type": "markdown",
   "metadata": {},
   "source": [
    "## Splitting the data \n",
    "- Split the data into training and testing sets while preserving the time order.\n",
    "- Consider using a validation set or cross-validation (e.g., TimeSeriesSplit)."
   ]
  },
  {
   "cell_type": "markdown",
   "metadata": {},
   "source": []
  },
  {
   "cell_type": "markdown",
   "metadata": {},
   "source": [
    "## Scaling/Normalization "
   ]
  },
  {
   "cell_type": "markdown",
   "metadata": {},
   "source": []
  },
  {
   "cell_type": "markdown",
   "metadata": {},
   "source": [
    "## Pipeline with baseline models for training and evaluatio with mean absolute error, rmse, mape, minimum absolute error and maximum absolute error \n",
    "- elastic net \n",
    "- xgboost \n",
    "- lightgbm\n",
    "- random forest \n",
    "- mlp \n",
    "- gradient boost\n",
    "- facebook prophet \n",
    "\n",
    "**Note** : we can submit the best prediction gotten from the best model"
   ]
  },
  {
   "cell_type": "markdown",
   "metadata": {},
   "source": []
  },
  {
   "cell_type": "markdown",
   "metadata": {},
   "source": []
  },
  {
   "cell_type": "code",
   "execution_count": null,
   "metadata": {},
   "outputs": [],
   "source": []
  },
  {
   "cell_type": "markdown",
   "metadata": {},
   "source": [
    "## Retrain the best two models and evaluate them \n",
    "- feature importance \n",
    "- sharp values \n",
    "- hyper parameter tuning \n",
    "- Plot predited against actual \n",
    "\n",
    "**Note** : We can submit \n"
   ]
  },
  {
   "cell_type": "markdown",
   "metadata": {},
   "source": []
  },
  {
   "cell_type": "markdown",
   "metadata": {},
   "source": [
    "## Ensemble all the algorithms using stacking , train , evaluate "
   ]
  },
  {
   "cell_type": "markdown",
   "metadata": {},
   "source": [
    "**We can start again using another feature selection technique until we exhaust the feature selection techniques**"
   ]
  },
  {
   "cell_type": "markdown",
   "metadata": {},
   "source": [
    "# Using Deep Learning Approach \n",
    "- LSTM  "
   ]
  },
  {
   "cell_type": "markdown",
   "metadata": {},
   "source": []
  }
 ],
 "metadata": {
  "kernelspec": {
   "display_name": "Python 3",
   "language": "python",
   "name": "python3"
  },
  "language_info": {
   "codemirror_mode": {
    "name": "ipython",
    "version": 3
   },
   "file_extension": ".py",
   "mimetype": "text/x-python",
   "name": "python",
   "nbconvert_exporter": "python",
   "pygments_lexer": "ipython3",
   "version": "3.11.5"
  }
 },
 "nbformat": 4,
 "nbformat_minor": 2
}
